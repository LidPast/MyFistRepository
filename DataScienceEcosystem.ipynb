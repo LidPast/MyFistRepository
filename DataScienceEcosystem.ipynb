{
 "cells": [
  {
   "cell_type": "markdown",
   "id": "2d9e17ae-c048-495d-a356-6f7c9e31cea5",
   "metadata": {},
   "source": [
    "Create markdown cell with title of the notebook"
   ]
  },
  {
   "cell_type": "markdown",
   "id": "e626215b-b71d-4dca-b8c8-3c8255730ed7",
   "metadata": {},
   "source": [
    "# Data Science Tools and Ecosystem"
   ]
  },
  {
   "cell_type": "code",
   "execution_count": null,
   "id": "81038115-0817-4765-9a66-584f0bf81c4f",
   "metadata": {},
   "outputs": [],
   "source": []
  },
  {
   "cell_type": "markdown",
   "id": "901b7cfc-bd14-4126-b32a-1fc857c4cf0e",
   "metadata": {},
   "source": [
    "Create a markdown cell for an introduction"
   ]
  },
  {
   "cell_type": "markdown",
   "id": "7007fad0-ebb9-45d7-a863-835c7e9db940",
   "metadata": {},
   "source": [
    "In this notebook, Data Science Tools and Ecosystem are summarized."
   ]
  },
  {
   "cell_type": "code",
   "execution_count": null,
   "id": "b7e0f4a8-7351-47ba-9b8a-de7a34f8ed75",
   "metadata": {},
   "outputs": [],
   "source": []
  },
  {
   "cell_type": "markdown",
   "id": "72686b93-c783-4dc9-8606-9f41e4dce526",
   "metadata": {},
   "source": [
    "Insert a markdown cell to list Objectives"
   ]
  },
  {
   "cell_type": "markdown",
   "id": "f78eb1f4-55d5-4119-80e3-8c21554441c1",
   "metadata": {},
   "source": [
    "**Objectives:**"
   ]
  },
  {
   "cell_type": "markdown",
   "id": "ad861565-c71f-45ff-95fc-a4d091d9198a",
   "metadata": {},
   "source": [
    "* Reinforcing Theory: Practical exercises help deepen understanding of theoretical concepts by applying them to real-world examples\n",
    "* Developing Programming Skills\n",
    "* Studying various tools, languages, and libraries used by Data Scientists"
   ]
  },
  {
   "cell_type": "code",
   "execution_count": null,
   "id": "f2914ae3-b93b-4c83-a5af-c9b1e07edf00",
   "metadata": {},
   "outputs": [],
   "source": []
  },
  {
   "cell_type": "markdown",
   "id": "4012a9fb-f198-40d5-8420-8b6495df8904",
   "metadata": {},
   "source": [
    "Create a markdown cell to list data science languages"
   ]
  },
  {
   "cell_type": "markdown",
   "id": "b6661fe4-74c4-4058-ad81-39719a2b934e",
   "metadata": {},
   "source": [
    "Some of the popular languages that Data Scientists use are:"
   ]
  },
  {
   "cell_type": "markdown",
   "id": "5af754d2-75d6-45a3-a05b-2fc50d4f4a5c",
   "metadata": {},
   "source": [
    "1. Python\n",
    "2. R\n",
    "3. Java\n",
    "4. Scala\n",
    "5. Julia"
   ]
  },
  {
   "cell_type": "code",
   "execution_count": null,
   "id": "e7584121-aaac-4ea5-be64-0706719de8cc",
   "metadata": {},
   "outputs": [],
   "source": []
  },
  {
   "cell_type": "markdown",
   "id": "9908d066-7727-45d9-81cb-691f30f0851d",
   "metadata": {},
   "source": [
    "Create a markdown cell to list data science libraries"
   ]
  },
  {
   "cell_type": "markdown",
   "id": "c10881c3-8563-4553-8423-7aee22a2f726",
   "metadata": {},
   "source": [
    "Some of the commonly used libraries used by Data Scientists include:"
   ]
  },
  {
   "cell_type": "markdown",
   "id": "96a5663f-beb2-4f7e-b9ed-20572543ce4f",
   "metadata": {},
   "source": [
    "* NumPy\n",
    "* Matplotlib\n",
    "* Pandas\n",
    "* SciPy\n",
    "* Keras\n",
    "* TensorFlow"
   ]
  },
  {
   "cell_type": "code",
   "execution_count": null,
   "id": "56df5abc-3eba-448d-b923-c81914dae48b",
   "metadata": {},
   "outputs": [],
   "source": []
  },
  {
   "cell_type": "markdown",
   "id": "333f4b15-edf1-4332-bd4c-69232cf1d1fb",
   "metadata": {},
   "source": [
    "Create a markdown cell with a table of Data Science tools"
   ]
  },
  {
   "cell_type": "markdown",
   "id": "4a4c6ecf-e2c1-47a5-9045-3afde805cdd5",
   "metadata": {},
   "source": [
    "### Data Science Tools"
   ]
  },
  {
   "cell_type": "markdown",
   "id": "dd0daabf-2b95-4981-a376-c12749ea4264",
   "metadata": {},
   "source": [
    "| Data Science Tools | Description|\n",
    "|------------------- | :---------- |\n",
    "| Jupiter Notebook | An open-source application built on ipython that supports multiple languages, including Python and R. It's a web-based tool for creating presentations, infographics, and live code. |\n",
    "| RStudio | An open-source programming language that's compatible with Python. |\n",
    "| TensorFlow | An open-source machine learning platform for training and building models and recommendation systems. |"
   ]
  },
  {
   "cell_type": "code",
   "execution_count": null,
   "id": "bb35ff89-be2f-4f74-abfc-d37b28dd026f",
   "metadata": {},
   "outputs": [],
   "source": []
  },
  {
   "cell_type": "markdown",
   "id": "3220b626-faa5-43d9-9831-84a06fa8249a",
   "metadata": {},
   "source": [
    "Create a markdown cell introducing arithmetic expression examples"
   ]
  },
  {
   "cell_type": "markdown",
   "id": "b2a411ee-4f34-49ef-b3ef-eeb00de44802",
   "metadata": {},
   "source": [
    "### Below are a few examples of evaluating arithmetic expressions in Python"
   ]
  },
  {
   "cell_type": "markdown",
   "id": "ed1ee3ad-d19d-4065-92a7-593e92c4cfd3",
   "metadata": {},
   "source": [
    "25+47\n",
    "\n",
    "99-73\n",
    "\n",
    "48/6\n",
    "\n",
    "33*74\n",
    "\n",
    "(15*85)+54\n"
   ]
  },
  {
   "cell_type": "code",
   "execution_count": null,
   "id": "7267248e-9496-48ea-8617-19f62f985d6e",
   "metadata": {},
   "outputs": [],
   "source": []
  },
  {
   "cell_type": "markdown",
   "id": "a3ae9aca-4466-43a2-8a38-78a4f3dcac93",
   "metadata": {},
   "source": [
    "Create a code cell to multiply and add numbers"
   ]
  },
  {
   "cell_type": "code",
   "execution_count": 1,
   "id": "0c55820e-aff5-45ae-9675-df21ac6ddab6",
   "metadata": {},
   "outputs": [
    {
     "data": {
      "text/plain": [
       "17"
      ]
     },
     "execution_count": 1,
     "metadata": {},
     "output_type": "execute_result"
    }
   ],
   "source": [
    "# This a simple arithmetic expression to mutiply then add integers\n",
    "(3*4)+5"
   ]
  },
  {
   "cell_type": "code",
   "execution_count": null,
   "id": "d7528542-a080-42af-84d9-109e42896f7d",
   "metadata": {},
   "outputs": [],
   "source": []
  },
  {
   "cell_type": "markdown",
   "id": "fbd549ec-1505-4847-b5ea-c2db9603cd43",
   "metadata": {},
   "source": [
    "Create a code cell to convert minutes to hours"
   ]
  },
  {
   "cell_type": "code",
   "execution_count": 1,
   "id": "9b21142c-42ce-4e46-8bac-657d486bb16c",
   "metadata": {},
   "outputs": [
    {
     "data": {
      "text/plain": [
       "3.3333333333333335"
      ]
     },
     "execution_count": 1,
     "metadata": {},
     "output_type": "execute_result"
    }
   ],
   "source": [
    "# This will convert 200 minutes to hours by diving by 60.\n",
    "200/60\n",
    "\n",
    "\n"
   ]
  },
  {
   "cell_type": "markdown",
   "id": "e556df23-ca42-41c5-a104-b4ba237cdaa6",
   "metadata": {},
   "source": [
    " Create a markdown cell to indicate the Author's name"
   ]
  },
  {
   "cell_type": "markdown",
   "id": "edb414cf-44ce-4861-892d-2ef411e81b93",
   "metadata": {},
   "source": [
    "## Author"
   ]
  },
  {
   "cell_type": "markdown",
   "id": "7daee638-3dd8-4202-a2bc-6f60b256ea5e",
   "metadata": {},
   "source": [
    "Lidia"
   ]
  },
  {
   "cell_type": "code",
   "execution_count": null,
   "id": "fa1af25f-78d9-4792-bdfb-b5572a132c7e",
   "metadata": {},
   "outputs": [],
   "source": []
  }
 ],
 "metadata": {
  "kernelspec": {
   "display_name": "Python 3 (ipykernel)",
   "language": "python",
   "name": "python3"
  },
  "language_info": {
   "codemirror_mode": {
    "name": "ipython",
    "version": 3
   },
   "file_extension": ".py",
   "mimetype": "text/x-python",
   "name": "python",
   "nbconvert_exporter": "python",
   "pygments_lexer": "ipython3",
   "version": "3.13.0"
  }
 },
 "nbformat": 4,
 "nbformat_minor": 5
}
